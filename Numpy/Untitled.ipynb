{
 "cells": [
  {
   "cell_type": "markdown",
   "id": "b6086708",
   "metadata": {},
   "source": [
    "# Numpy array vs Python list"
   ]
  },
  {
   "cell_type": "markdown",
   "id": "db31f56d",
   "metadata": {},
   "source": [
    "##### list vs arrays\n",
    "1.faster\n",
    "2.convenient\n",
    "3.less memory"
   ]
  },
  {
   "cell_type": "markdown",
   "id": "ca0d024a",
   "metadata": {},
   "source": [
    "NumPy Array:\n",
    "\n",
    "Homogeneous Elements: NumPy arrays hold elements of the same data type, promoting efficient computation.\n",
    "Fixed Size: Once created, the size of a NumPy array is fixed and cannot be changed without creating a new array.\n",
    "Vectorized Operations: NumPy arrays support vectorized operations, enabling concise and efficient array-level calculations.\n",
    "Multidimensional Arrays: NumPy seamlessly handles multi-dimensional arrays, crucial for scientific computing and data analysis.\n",
    "Python List:\n",
    "\n",
    "Heterogeneous Elements: Python lists accommodate elements of different data types, providing flexibility but potentially hindering performance.\n",
    "Dynamic Size: Lists are dynamic and can grow or shrink in size dynamically, allowing for versatile data management.\n",
    "Element-wise Operations: Operations on lists generally involve iterating through elements, which can be less efficient than NumPy's vectorized approach.\n",
    "Basic Multi-dimensionality: While lists can be nested to create multi-dimensional structures, handling multi-dimensional data is more intuitive with NumPy."
   ]
  },
  {
   "cell_type": "code",
   "execution_count": 6,
   "id": "40b8f4f2",
   "metadata": {},
   "outputs": [],
   "source": [
    "import time \n",
    "import numpy as np\n",
    "import sys"
   ]
  },
  {
   "cell_type": "code",
   "execution_count": 5,
   "id": "05c42286",
   "metadata": {},
   "outputs": [],
   "source": [
    "list1=range(1000)\n",
    "arr11=np.arange(1000)"
   ]
  },
  {
   "cell_type": "markdown",
   "id": "83384ad9",
   "metadata": {},
   "source": [
    "### size_array =sys.getsizeof(arr11)\n",
    "size_array\n"
   ]
  },
  {
   "cell_type": "code",
   "execution_count": 9,
   "id": "9e66d3c7",
   "metadata": {},
   "outputs": [
    {
     "data": {
      "text/plain": [
       "48"
      ]
     },
     "execution_count": 9,
     "metadata": {},
     "output_type": "execute_result"
    }
   ],
   "source": [
    "size_list=sys.getsizeof(list1)\n",
    "size_array"
   ]
  },
  {
   "cell_type": "code",
   "execution_count": null,
   "id": "c3a7ded9",
   "metadata": {},
   "outputs": [],
   "source": []
  },
  {
   "cell_type": "code",
   "execution_count": null,
   "id": "652ce090",
   "metadata": {},
   "outputs": [],
   "source": []
  },
  {
   "cell_type": "code",
   "execution_count": null,
   "id": "1ebd14b1",
   "metadata": {},
   "outputs": [],
   "source": []
  },
  {
   "cell_type": "code",
   "execution_count": null,
   "id": "d96a0ce3",
   "metadata": {},
   "outputs": [],
   "source": []
  },
  {
   "cell_type": "code",
   "execution_count": null,
   "id": "b6350ea1",
   "metadata": {},
   "outputs": [],
   "source": []
  }
 ],
 "metadata": {
  "kernelspec": {
   "display_name": "Python 3 (ipykernel)",
   "language": "python",
   "name": "python3"
  },
  "language_info": {
   "codemirror_mode": {
    "name": "ipython",
    "version": 3
   },
   "file_extension": ".py",
   "mimetype": "text/x-python",
   "name": "python",
   "nbconvert_exporter": "python",
   "pygments_lexer": "ipython3",
   "version": "3.11.2"
  }
 },
 "nbformat": 4,
 "nbformat_minor": 5
}
